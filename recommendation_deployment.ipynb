{
  "nbformat": 4,
  "nbformat_minor": 0,
  "metadata": {
    "colab": {
      "provenance": []
    },
    "kernelspec": {
      "name": "python3",
      "display_name": "Python 3"
    },
    "language_info": {
      "name": "python"
    }
  },
  "cells": [
    {
      "cell_type": "markdown",
      "source": [
        "[How to clean](https://docs.aws.amazon.com/sagemaker/latest/dg/ex1-cleanup.html)\n",
        "\n",
        "[Deployment code](https://github.com/raja-surya/aws-deployment-1/blob/main/Iris-model-deployment.ipynb)\n"
      ],
      "metadata": {
        "id": "YQNvZm91S5dW"
      }
    },
    {
      "cell_type": "code",
      "execution_count": null,
      "metadata": {
        "id": "W_zytGaZSdPS"
      },
      "outputs": [],
      "source": [
        "# setup\n",
        "%%time\n",
        "\n",
        "import os\n",
        "import boto3\n",
        "import sagemaker\n",
        "\n",
        "from sagemaker import get_execution_role\n",
        "\n",
        "region = boto3.Session().region_name\n",
        "\n",
        "role = get_execution_role()"
      ]
    },
    {
      "cell_type": "code",
      "source": [
        "# create s3 bucket\n",
        "bucket = sagemaker.Session().default_bucket()\n",
        "bucket_path = \"https://s3-{}.amazonaws.com/{}\".format(region, bucket)\n",
        "\n",
        "print(role,region,bucket,bucket_path)"
      ],
      "metadata": {
        "id": "vfQne43rVGZs"
      },
      "execution_count": null,
      "outputs": []
    },
    {
      "cell_type": "code",
      "source": [
        "# installing the sklearn package\n",
        "!conda install -y -c conda-forge scikit-learn"
      ],
      "metadata": {
        "id": "UbaV649tV9sf"
      },
      "execution_count": null,
      "outputs": []
    },
    {
      "cell_type": "code",
      "source": [
        "# loading the model\n",
        "\n",
        "model_file_name = \"recommendation_model\"\n",
        "\n",
        "import joblib\n",
        "import sklearn\n",
        "\n",
        "model = joblib.load(model_file_name)"
      ],
      "metadata": {
        "id": "4KzAB2A2WLoh"
      },
      "execution_count": null,
      "outputs": []
    },
    {
      "cell_type": "code",
      "source": [
        "# converting the model to tar file\n",
        "!tar czvf model.tar.gz $model_file_name"
      ],
      "metadata": {
        "id": "NkJUF9pNYOwd"
      },
      "execution_count": null,
      "outputs": []
    },
    {
      "cell_type": "code",
      "source": [
        "# upload the pretrained model to bucket\n",
        "prefix =\"sagemaker/demo-recommendation\"\n",
        "\n",
        "fileObject = open(\"model.tar.gz\",\"rb\")\n",
        "key = os.path.join(prefix,model_file_name,\"model.tar.gz\")\n",
        "print(key)\n",
        "boto3.Session().resource(\"s3\").Bucket(bucket).Object(key).upload_fileobj(f"
      ],
      "metadata": {
        "id": "uAzOleLEYueh"
      },
      "execution_count": null,
      "outputs": []
    },
    {
      "cell_type": "code",
      "source": [
        "# setting up for hosting\n",
        "from sagemaker.amazon.amazon_estimator import get_image_uri\n",
        "\n",
        "# container = get_image_uri(boto3.Session().region_name, \"xgboost\", \"0.90-1\")\n",
        "container = get_image_uri(boto3.Session().region_name,\"sklearn\",\"1.4.0\")"
      ],
      "metadata": {
        "id": "DjLiQX8NbLZa"
      },
      "execution_count": null,
      "outputs": []
    },
    {
      "cell_type": "code",
      "source": [
        "# creating the model in sagemaker\n",
        "\n",
        "%%time\n",
        "from time import gmtime, strftime\n",
        "\n",
        "model_name = model_file_name + strftime(\"%Y-%m-%d-%H-%M-%S\", gmtime())\n",
        "\n",
        "model_url = \"https://s3-{}.amazonaws.com/{}/{}\".format(region, bucket, key)\n",
        "\n",
        "sm_client = boto3.client(\"sagemaker\")\n",
        "\n",
        "print(model_url)\n",
        "\n",
        "primary_container = {\n",
        "    \"Image\": container,\n",
        "    \"ModelDataUrl\": model_url,\n",
        "}\n",
        "\n",
        "create_model_response2 = sm_client.create_model(\n",
        "    ModelName=model_name, ExecutionRoleArn=role, PrimaryContainer=primary_container\n",
        ")\n",
        "\n",
        "print(create_model_response2[\"ModelArn\"])"
      ],
      "metadata": {
        "id": "ZMpo23U7esHD"
      },
      "execution_count": null,
      "outputs": []
    },
    {
      "cell_type": "code",
      "source": [
        "from time import gmtime,strftime\n",
        "\n",
        "endpoint_config_name = \"demo-recommendation-config\" + strftime(\"%Y-%m-%d-%H-%M-%S\", gmtime())\n",
        "\n",
        "print(endpoint_config_name)\n",
        "\n",
        "create_endpoint_config_response = sm_client.create_endpoint_config(\n",
        "    EndpointConfigName=endpoint_config_name,\n",
        "    ProductionVariants=[\n",
        "        {\n",
        "            \"InstanceType\": \"ml.t2.medium\",\n",
        "            \"InitialInstanceCount\": 1,\n",
        "            \"InitialVariantWeight\": 1,\n",
        "            \"ModelName\": model_name,\n",
        "            \"VariantName\": \"AllTraffic\",\n",
        "        }\n",
        "    ],\n",
        ")\n",
        "\n",
        "print(\"Endpoint Config Arn: \" + create_endpoint_config_response[\"EndpointConfigArn\"])"
      ],
      "metadata": {
        "id": "LHKqDp8eetfO"
      },
      "execution_count": null,
      "outputs": []
    },
    {
      "cell_type": "code",
      "source": [
        "# create endpoint\n",
        "\n",
        "%%time\n",
        "import time\n",
        "\n",
        "endpoint_name = \"recommendationEndpoint\"+ strftime(\"%Y-%m-%d-%H-%M-%S\", gmtime())\n",
        "print(endpoint_name)\n",
        "create_endpoint_response = sm_client.create_endpoint(\n",
        "    EndpointName=endpoint_name, EndpointConfigName=endpoint_config_name\n",
        ")\n",
        "print(create_endpoint_response[\"EndpointArn\"])\n",
        "\n",
        "resp = sm_client.describe_endpoint(EndpointName=endpoint_name)\n",
        "status = resp[\"EndpointStatus\"]\n",
        "print(\"Status: \" + status)\n",
        "\n",
        "while status == \"Creating\":\n",
        "    time.sleep(60)\n",
        "    resp = sm_client.describe_endpoint(EndpointName=endpoint_name)\n",
        "    status = resp[\"EndpointStatus\"]\n",
        "    print(\"Status: \" + status)\n",
        "\n",
        "print(\"Arn: \" + resp[\"EndpointArn\"])\n",
        "print(\"Status: \" + status)"
      ],
      "metadata": {
        "id": "eHL6xRochhM_"
      },
      "execution_count": null,
      "outputs": []
    },
    {
      "cell_type": "code",
      "source": [
        "# testing the sagemaker model\n",
        "movie = \"Tiempo\"\n",
        "\n",
        "response = runtime_client.invoke_endpoint(\n",
        "    EndpointName = endpoint_name,ContentType=\"text/csv\",Body=movie\n",
        ")\n",
        "\n",
        "result = response[\"Body\"].read().decode(\"ascii\")\n",
        "\n",
        "print(\"\\n Predicted\".format(result))"
      ],
      "metadata": {
        "id": "jZmZCXhbjB9J"
      },
      "execution_count": null,
      "outputs": []
    },
    {
      "cell_type": "code",
      "source": [
        "# to delete the endpoint\n",
        "sm_client.delete_endpoint(EndpointName=endpoint_name)"
      ],
      "metadata": {
        "id": "4jPPm6uHkPQQ"
      },
      "execution_count": null,
      "outputs": []
    }
  ]
}