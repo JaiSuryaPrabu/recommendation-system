{
  "nbformat": 4,
  "nbformat_minor": 0,
  "metadata": {
    "colab": {
      "provenance": [],
      "gpuType": "T4"
    },
    "kernelspec": {
      "name": "python3",
      "display_name": "Python 3"
    },
    "language_info": {
      "name": "python"
    },
    "accelerator": "GPU"
  },
  "cells": [
    {
      "cell_type": "code",
      "source": [
        "!mv kaggle.json /root/.kaggle/"
      ],
      "metadata": {
        "id": "qs-CbmP6B_9g"
      },
      "execution_count": 5,
      "outputs": []
    },
    {
      "cell_type": "code",
      "source": [
        "!kaggle datasets download -d disham993/9000-movies-dataset"
      ],
      "metadata": {
        "colab": {
          "base_uri": "https://localhost:8080/"
        },
        "id": "s_DdBTqk1wFw",
        "outputId": "a405f44e-59d5-4f08-b0cd-7e31774707f1"
      },
      "execution_count": 6,
      "outputs": [
        {
          "output_type": "stream",
          "name": "stdout",
          "text": [
            "Warning: Your Kaggle API key is readable by other users on this system! To fix this, you can run 'chmod 600 /root/.kaggle/kaggle.json'\n",
            "Downloading 9000-movies-dataset.zip to /content\n",
            "  0% 0.00/1.70M [00:00<?, ?B/s]\n",
            "100% 1.70M/1.70M [00:00<00:00, 60.9MB/s]\n"
          ]
        }
      ]
    },
    {
      "cell_type": "code",
      "source": [
        "!unzip 9000-movies-dataset.zip"
      ],
      "metadata": {
        "colab": {
          "base_uri": "https://localhost:8080/"
        },
        "id": "b-Gr0so38e-4",
        "outputId": "086f8896-a085-47e0-8c3b-4976e0a7e2cf"
      },
      "execution_count": 7,
      "outputs": [
        {
          "output_type": "stream",
          "name": "stdout",
          "text": [
            "Archive:  9000-movies-dataset.zip\n",
            "  inflating: mymoviedb.csv           \n"
          ]
        }
      ]
    },
    {
      "cell_type": "code",
      "source": [
        "import pandas as pd\n",
        "\n",
        "dataset = pd.read_csv(\"mymoviedb.csv\",lineterminator=\"\\n\")\n",
        "dataset.head()"
      ],
      "metadata": {
        "colab": {
          "base_uri": "https://localhost:8080/",
          "height": 573
        },
        "id": "NQBdwIGC7t-h",
        "outputId": "73ee1e87-a623-4a2c-d466-da3ced8f7d5a"
      },
      "execution_count": 8,
      "outputs": [
        {
          "output_type": "execute_result",
          "data": {
            "text/plain": [
              "  Release_Date                    Title  \\\n",
              "0   2021-12-15  Spider-Man: No Way Home   \n",
              "1   2022-03-01               The Batman   \n",
              "2   2022-02-25                  No Exit   \n",
              "3   2021-11-24                  Encanto   \n",
              "4   2021-12-22           The King's Man   \n",
              "\n",
              "                                            Overview  Popularity  Vote_Count  \\\n",
              "0  Peter Parker is unmasked and no longer able to...    5083.954        8940   \n",
              "1  In his second year of fighting crime, Batman u...    3827.658        1151   \n",
              "2  Stranded at a rest stop in the mountains durin...    2618.087         122   \n",
              "3  The tale of an extraordinary family, the Madri...    2402.201        5076   \n",
              "4  As a collection of history's worst tyrants and...    1895.511        1793   \n",
              "\n",
              "   Vote_Average Original_Language                               Genre  \\\n",
              "0           8.3                en  Action, Adventure, Science Fiction   \n",
              "1           8.1                en            Crime, Mystery, Thriller   \n",
              "2           6.3                en                            Thriller   \n",
              "3           7.7                en  Animation, Comedy, Family, Fantasy   \n",
              "4           7.0                en    Action, Adventure, Thriller, War   \n",
              "\n",
              "                                          Poster_Url  \n",
              "0  https://image.tmdb.org/t/p/original/1g0dhYtq4i...  \n",
              "1  https://image.tmdb.org/t/p/original/74xTEgt7R3...  \n",
              "2  https://image.tmdb.org/t/p/original/vDHsLnOWKl...  \n",
              "3  https://image.tmdb.org/t/p/original/4j0PNHkMr5...  \n",
              "4  https://image.tmdb.org/t/p/original/aq4Pwv5Xeu...  "
            ],
            "text/html": [
              "\n",
              "  <div id=\"df-445c2db8-44ba-483e-b20d-cc3e66f3d6a7\" class=\"colab-df-container\">\n",
              "    <div>\n",
              "<style scoped>\n",
              "    .dataframe tbody tr th:only-of-type {\n",
              "        vertical-align: middle;\n",
              "    }\n",
              "\n",
              "    .dataframe tbody tr th {\n",
              "        vertical-align: top;\n",
              "    }\n",
              "\n",
              "    .dataframe thead th {\n",
              "        text-align: right;\n",
              "    }\n",
              "</style>\n",
              "<table border=\"1\" class=\"dataframe\">\n",
              "  <thead>\n",
              "    <tr style=\"text-align: right;\">\n",
              "      <th></th>\n",
              "      <th>Release_Date</th>\n",
              "      <th>Title</th>\n",
              "      <th>Overview</th>\n",
              "      <th>Popularity</th>\n",
              "      <th>Vote_Count</th>\n",
              "      <th>Vote_Average</th>\n",
              "      <th>Original_Language</th>\n",
              "      <th>Genre</th>\n",
              "      <th>Poster_Url</th>\n",
              "    </tr>\n",
              "  </thead>\n",
              "  <tbody>\n",
              "    <tr>\n",
              "      <th>0</th>\n",
              "      <td>2021-12-15</td>\n",
              "      <td>Spider-Man: No Way Home</td>\n",
              "      <td>Peter Parker is unmasked and no longer able to...</td>\n",
              "      <td>5083.954</td>\n",
              "      <td>8940</td>\n",
              "      <td>8.3</td>\n",
              "      <td>en</td>\n",
              "      <td>Action, Adventure, Science Fiction</td>\n",
              "      <td>https://image.tmdb.org/t/p/original/1g0dhYtq4i...</td>\n",
              "    </tr>\n",
              "    <tr>\n",
              "      <th>1</th>\n",
              "      <td>2022-03-01</td>\n",
              "      <td>The Batman</td>\n",
              "      <td>In his second year of fighting crime, Batman u...</td>\n",
              "      <td>3827.658</td>\n",
              "      <td>1151</td>\n",
              "      <td>8.1</td>\n",
              "      <td>en</td>\n",
              "      <td>Crime, Mystery, Thriller</td>\n",
              "      <td>https://image.tmdb.org/t/p/original/74xTEgt7R3...</td>\n",
              "    </tr>\n",
              "    <tr>\n",
              "      <th>2</th>\n",
              "      <td>2022-02-25</td>\n",
              "      <td>No Exit</td>\n",
              "      <td>Stranded at a rest stop in the mountains durin...</td>\n",
              "      <td>2618.087</td>\n",
              "      <td>122</td>\n",
              "      <td>6.3</td>\n",
              "      <td>en</td>\n",
              "      <td>Thriller</td>\n",
              "      <td>https://image.tmdb.org/t/p/original/vDHsLnOWKl...</td>\n",
              "    </tr>\n",
              "    <tr>\n",
              "      <th>3</th>\n",
              "      <td>2021-11-24</td>\n",
              "      <td>Encanto</td>\n",
              "      <td>The tale of an extraordinary family, the Madri...</td>\n",
              "      <td>2402.201</td>\n",
              "      <td>5076</td>\n",
              "      <td>7.7</td>\n",
              "      <td>en</td>\n",
              "      <td>Animation, Comedy, Family, Fantasy</td>\n",
              "      <td>https://image.tmdb.org/t/p/original/4j0PNHkMr5...</td>\n",
              "    </tr>\n",
              "    <tr>\n",
              "      <th>4</th>\n",
              "      <td>2021-12-22</td>\n",
              "      <td>The King's Man</td>\n",
              "      <td>As a collection of history's worst tyrants and...</td>\n",
              "      <td>1895.511</td>\n",
              "      <td>1793</td>\n",
              "      <td>7.0</td>\n",
              "      <td>en</td>\n",
              "      <td>Action, Adventure, Thriller, War</td>\n",
              "      <td>https://image.tmdb.org/t/p/original/aq4Pwv5Xeu...</td>\n",
              "    </tr>\n",
              "  </tbody>\n",
              "</table>\n",
              "</div>\n",
              "    <div class=\"colab-df-buttons\">\n",
              "\n",
              "  <div class=\"colab-df-container\">\n",
              "    <button class=\"colab-df-convert\" onclick=\"convertToInteractive('df-445c2db8-44ba-483e-b20d-cc3e66f3d6a7')\"\n",
              "            title=\"Convert this dataframe to an interactive table.\"\n",
              "            style=\"display:none;\">\n",
              "\n",
              "  <svg xmlns=\"http://www.w3.org/2000/svg\" height=\"24px\" viewBox=\"0 -960 960 960\">\n",
              "    <path d=\"M120-120v-720h720v720H120Zm60-500h600v-160H180v160Zm220 220h160v-160H400v160Zm0 220h160v-160H400v160ZM180-400h160v-160H180v160Zm440 0h160v-160H620v160ZM180-180h160v-160H180v160Zm440 0h160v-160H620v160Z\"/>\n",
              "  </svg>\n",
              "    </button>\n",
              "\n",
              "  <style>\n",
              "    .colab-df-container {\n",
              "      display:flex;\n",
              "      gap: 12px;\n",
              "    }\n",
              "\n",
              "    .colab-df-convert {\n",
              "      background-color: #E8F0FE;\n",
              "      border: none;\n",
              "      border-radius: 50%;\n",
              "      cursor: pointer;\n",
              "      display: none;\n",
              "      fill: #1967D2;\n",
              "      height: 32px;\n",
              "      padding: 0 0 0 0;\n",
              "      width: 32px;\n",
              "    }\n",
              "\n",
              "    .colab-df-convert:hover {\n",
              "      background-color: #E2EBFA;\n",
              "      box-shadow: 0px 1px 2px rgba(60, 64, 67, 0.3), 0px 1px 3px 1px rgba(60, 64, 67, 0.15);\n",
              "      fill: #174EA6;\n",
              "    }\n",
              "\n",
              "    .colab-df-buttons div {\n",
              "      margin-bottom: 4px;\n",
              "    }\n",
              "\n",
              "    [theme=dark] .colab-df-convert {\n",
              "      background-color: #3B4455;\n",
              "      fill: #D2E3FC;\n",
              "    }\n",
              "\n",
              "    [theme=dark] .colab-df-convert:hover {\n",
              "      background-color: #434B5C;\n",
              "      box-shadow: 0px 1px 3px 1px rgba(0, 0, 0, 0.15);\n",
              "      filter: drop-shadow(0px 1px 2px rgba(0, 0, 0, 0.3));\n",
              "      fill: #FFFFFF;\n",
              "    }\n",
              "  </style>\n",
              "\n",
              "    <script>\n",
              "      const buttonEl =\n",
              "        document.querySelector('#df-445c2db8-44ba-483e-b20d-cc3e66f3d6a7 button.colab-df-convert');\n",
              "      buttonEl.style.display =\n",
              "        google.colab.kernel.accessAllowed ? 'block' : 'none';\n",
              "\n",
              "      async function convertToInteractive(key) {\n",
              "        const element = document.querySelector('#df-445c2db8-44ba-483e-b20d-cc3e66f3d6a7');\n",
              "        const dataTable =\n",
              "          await google.colab.kernel.invokeFunction('convertToInteractive',\n",
              "                                                    [key], {});\n",
              "        if (!dataTable) return;\n",
              "\n",
              "        const docLinkHtml = 'Like what you see? Visit the ' +\n",
              "          '<a target=\"_blank\" href=https://colab.research.google.com/notebooks/data_table.ipynb>data table notebook</a>'\n",
              "          + ' to learn more about interactive tables.';\n",
              "        element.innerHTML = '';\n",
              "        dataTable['output_type'] = 'display_data';\n",
              "        await google.colab.output.renderOutput(dataTable, element);\n",
              "        const docLink = document.createElement('div');\n",
              "        docLink.innerHTML = docLinkHtml;\n",
              "        element.appendChild(docLink);\n",
              "      }\n",
              "    </script>\n",
              "  </div>\n",
              "\n",
              "\n",
              "<div id=\"df-708e65c6-0830-4a0c-b603-c447bf5ad343\">\n",
              "  <button class=\"colab-df-quickchart\" onclick=\"quickchart('df-708e65c6-0830-4a0c-b603-c447bf5ad343')\"\n",
              "            title=\"Suggest charts\"\n",
              "            style=\"display:none;\">\n",
              "\n",
              "<svg xmlns=\"http://www.w3.org/2000/svg\" height=\"24px\"viewBox=\"0 0 24 24\"\n",
              "     width=\"24px\">\n",
              "    <g>\n",
              "        <path d=\"M19 3H5c-1.1 0-2 .9-2 2v14c0 1.1.9 2 2 2h14c1.1 0 2-.9 2-2V5c0-1.1-.9-2-2-2zM9 17H7v-7h2v7zm4 0h-2V7h2v10zm4 0h-2v-4h2v4z\"/>\n",
              "    </g>\n",
              "</svg>\n",
              "  </button>\n",
              "\n",
              "<style>\n",
              "  .colab-df-quickchart {\n",
              "      --bg-color: #E8F0FE;\n",
              "      --fill-color: #1967D2;\n",
              "      --hover-bg-color: #E2EBFA;\n",
              "      --hover-fill-color: #174EA6;\n",
              "      --disabled-fill-color: #AAA;\n",
              "      --disabled-bg-color: #DDD;\n",
              "  }\n",
              "\n",
              "  [theme=dark] .colab-df-quickchart {\n",
              "      --bg-color: #3B4455;\n",
              "      --fill-color: #D2E3FC;\n",
              "      --hover-bg-color: #434B5C;\n",
              "      --hover-fill-color: #FFFFFF;\n",
              "      --disabled-bg-color: #3B4455;\n",
              "      --disabled-fill-color: #666;\n",
              "  }\n",
              "\n",
              "  .colab-df-quickchart {\n",
              "    background-color: var(--bg-color);\n",
              "    border: none;\n",
              "    border-radius: 50%;\n",
              "    cursor: pointer;\n",
              "    display: none;\n",
              "    fill: var(--fill-color);\n",
              "    height: 32px;\n",
              "    padding: 0;\n",
              "    width: 32px;\n",
              "  }\n",
              "\n",
              "  .colab-df-quickchart:hover {\n",
              "    background-color: var(--hover-bg-color);\n",
              "    box-shadow: 0 1px 2px rgba(60, 64, 67, 0.3), 0 1px 3px 1px rgba(60, 64, 67, 0.15);\n",
              "    fill: var(--button-hover-fill-color);\n",
              "  }\n",
              "\n",
              "  .colab-df-quickchart-complete:disabled,\n",
              "  .colab-df-quickchart-complete:disabled:hover {\n",
              "    background-color: var(--disabled-bg-color);\n",
              "    fill: var(--disabled-fill-color);\n",
              "    box-shadow: none;\n",
              "  }\n",
              "\n",
              "  .colab-df-spinner {\n",
              "    border: 2px solid var(--fill-color);\n",
              "    border-color: transparent;\n",
              "    border-bottom-color: var(--fill-color);\n",
              "    animation:\n",
              "      spin 1s steps(1) infinite;\n",
              "  }\n",
              "\n",
              "  @keyframes spin {\n",
              "    0% {\n",
              "      border-color: transparent;\n",
              "      border-bottom-color: var(--fill-color);\n",
              "      border-left-color: var(--fill-color);\n",
              "    }\n",
              "    20% {\n",
              "      border-color: transparent;\n",
              "      border-left-color: var(--fill-color);\n",
              "      border-top-color: var(--fill-color);\n",
              "    }\n",
              "    30% {\n",
              "      border-color: transparent;\n",
              "      border-left-color: var(--fill-color);\n",
              "      border-top-color: var(--fill-color);\n",
              "      border-right-color: var(--fill-color);\n",
              "    }\n",
              "    40% {\n",
              "      border-color: transparent;\n",
              "      border-right-color: var(--fill-color);\n",
              "      border-top-color: var(--fill-color);\n",
              "    }\n",
              "    60% {\n",
              "      border-color: transparent;\n",
              "      border-right-color: var(--fill-color);\n",
              "    }\n",
              "    80% {\n",
              "      border-color: transparent;\n",
              "      border-right-color: var(--fill-color);\n",
              "      border-bottom-color: var(--fill-color);\n",
              "    }\n",
              "    90% {\n",
              "      border-color: transparent;\n",
              "      border-bottom-color: var(--fill-color);\n",
              "    }\n",
              "  }\n",
              "</style>\n",
              "\n",
              "  <script>\n",
              "    async function quickchart(key) {\n",
              "      const quickchartButtonEl =\n",
              "        document.querySelector('#' + key + ' button');\n",
              "      quickchartButtonEl.disabled = true;  // To prevent multiple clicks.\n",
              "      quickchartButtonEl.classList.add('colab-df-spinner');\n",
              "      try {\n",
              "        const charts = await google.colab.kernel.invokeFunction(\n",
              "            'suggestCharts', [key], {});\n",
              "      } catch (error) {\n",
              "        console.error('Error during call to suggestCharts:', error);\n",
              "      }\n",
              "      quickchartButtonEl.classList.remove('colab-df-spinner');\n",
              "      quickchartButtonEl.classList.add('colab-df-quickchart-complete');\n",
              "    }\n",
              "    (() => {\n",
              "      let quickchartButtonEl =\n",
              "        document.querySelector('#df-708e65c6-0830-4a0c-b603-c447bf5ad343 button');\n",
              "      quickchartButtonEl.style.display =\n",
              "        google.colab.kernel.accessAllowed ? 'block' : 'none';\n",
              "    })();\n",
              "  </script>\n",
              "</div>\n",
              "\n",
              "    </div>\n",
              "  </div>\n"
            ]
          },
          "metadata": {},
          "execution_count": 8
        }
      ]
    },
    {
      "cell_type": "code",
      "source": [
        "data = dataset[['Title','Overview','Genre']]\n",
        "data.head()"
      ],
      "metadata": {
        "id": "DAydbSo--ABf"
      },
      "execution_count": null,
      "outputs": []
    },
    {
      "cell_type": "code",
      "source": [
        "data.shape"
      ],
      "metadata": {
        "colab": {
          "base_uri": "https://localhost:8080/"
        },
        "id": "CPOmNYL--ekX",
        "outputId": "9aaaf410-3c32-4431-df3f-699974ebfda5"
      },
      "execution_count": 10,
      "outputs": [
        {
          "output_type": "execute_result",
          "data": {
            "text/plain": [
              "(9827, 3)"
            ]
          },
          "metadata": {},
          "execution_count": 10
        }
      ]
    },
    {
      "cell_type": "code",
      "source": [
        "from sklearn.feature_extraction.text import TfidfVectorizer\n",
        "\n",
        "tfidf = TfidfVectorizer(stop_words='english')\n",
        "data['Overview'] = data['Overview'].fillna('')\n",
        "tfidf_matrix = tfidf.fit_transform(data['Overview'])\n",
        "tfidf_matrix.shape"
      ],
      "metadata": {
        "colab": {
          "base_uri": "https://localhost:8080/"
        },
        "id": "xwKFPLVUDrtC",
        "outputId": "e5d810fa-1d25-4f0e-f9a1-104df4162b42"
      },
      "execution_count": 11,
      "outputs": [
        {
          "output_type": "stream",
          "name": "stderr",
          "text": [
            "<ipython-input-11-c40f06c37b7e>:4: SettingWithCopyWarning: \n",
            "A value is trying to be set on a copy of a slice from a DataFrame.\n",
            "Try using .loc[row_indexer,col_indexer] = value instead\n",
            "\n",
            "See the caveats in the documentation: https://pandas.pydata.org/pandas-docs/stable/user_guide/indexing.html#returning-a-view-versus-a-copy\n",
            "  data['Overview'] = data['Overview'].fillna('')\n"
          ]
        },
        {
          "output_type": "execute_result",
          "data": {
            "text/plain": [
              "(9827, 28483)"
            ]
          },
          "metadata": {},
          "execution_count": 11
        }
      ]
    },
    {
      "cell_type": "code",
      "source": [
        "# model learning\n",
        "from sklearn.metrics.pairwise import linear_kernel\n",
        "\n",
        "model = linear_kernel(tfidf_matrix, tfidf_matrix)"
      ],
      "metadata": {
        "id": "S3z_zaTIETlg"
      },
      "execution_count": 13,
      "outputs": []
    },
    {
      "cell_type": "code",
      "source": [
        "# mapping movie name to the indices\n",
        "indices = pd.Series(data.index,index=data['Title']).drop_duplicates()\n",
        "indices[0:10]"
      ],
      "metadata": {
        "colab": {
          "base_uri": "https://localhost:8080/"
        },
        "id": "SOZxi8VFEvu9",
        "outputId": "90863717-3e1a-49ac-e45b-a063e5d6ea54"
      },
      "execution_count": 14,
      "outputs": [
        {
          "output_type": "execute_result",
          "data": {
            "text/plain": [
              "Title\n",
              "Spider-Man: No Way Home    0\n",
              "The Batman                 1\n",
              "No Exit                    2\n",
              "Encanto                    3\n",
              "The King's Man             4\n",
              "The Commando               5\n",
              "Scream                     6\n",
              "Kimi                       7\n",
              "Fistful of Vengeance       8\n",
              "Eternals                   9\n",
              "dtype: int64"
            ]
          },
          "metadata": {},
          "execution_count": 14
        }
      ]
    },
    {
      "cell_type": "code",
      "source": [
        "def get_recommendations(title,model=model):\n",
        "    idx = indices[title]\n",
        "    sim_scores = list(enumerate(model[idx]))\n",
        "    sim_scores.sort(key=lambda x: x[1], reverse=True)\n",
        "    sim_scores = sim_scores[1:4]\n",
        "    movie_indices = [i[0] for i in sim_scores]\n",
        "    similar_movies = data['Title'].iloc[movie_indices].tolist()\n",
        "\n",
        "    return similar_movies"
      ],
      "metadata": {
        "id": "dFXtFhwUKkoQ"
      },
      "execution_count": 15,
      "outputs": []
    },
    {
      "cell_type": "code",
      "source": [
        "get_recommendations(\"Tiempo\")"
      ],
      "metadata": {
        "colab": {
          "base_uri": "https://localhost:8080/"
        },
        "id": "iuJgH9YaFxtE",
        "outputId": "6bde65c8-16f4-4216-fda0-57da681e6e2a"
      },
      "execution_count": 17,
      "outputs": [
        {
          "output_type": "execute_result",
          "data": {
            "text/plain": [
              "['Little Nemo: Adventures in Slumberland',\n",
              " 'Coming Home in the Dark',\n",
              " 'Naruto Shippuden the Movie: Bonds']"
            ]
          },
          "metadata": {},
          "execution_count": 17
        }
      ]
    },
    {
      "cell_type": "code",
      "source": [
        "# saving the model\n",
        "model_name = \"recommendation_model\"\n",
        "\n",
        "import joblib\n",
        "\n",
        "joblib.dump(model,model_name)"
      ],
      "metadata": {
        "colab": {
          "base_uri": "https://localhost:8080/"
        },
        "id": "jwckKf3pC4-L",
        "outputId": "9e02f234-e042-46bc-9c80-24a80c1b9237"
      },
      "execution_count": 18,
      "outputs": [
        {
          "output_type": "execute_result",
          "data": {
            "text/plain": [
              "['recommendation_model']"
            ]
          },
          "metadata": {},
          "execution_count": 18
        }
      ]
    },
    {
      "cell_type": "code",
      "source": [
        "# trying out the saved model\n",
        "saved_model = joblib.load(model_name)\n",
        "get_recommendations(\"Tiempo\",model=saved_model)"
      ],
      "metadata": {
        "colab": {
          "base_uri": "https://localhost:8080/"
        },
        "id": "lk_PmZiZOGfr",
        "outputId": "0c9a8e47-1a5a-4dcc-bc97-40a28237f347"
      },
      "execution_count": 19,
      "outputs": [
        {
          "output_type": "execute_result",
          "data": {
            "text/plain": [
              "['Little Nemo: Adventures in Slumberland',\n",
              " 'Coming Home in the Dark',\n",
              " 'Naruto Shippuden the Movie: Bonds']"
            ]
          },
          "metadata": {},
          "execution_count": 19
        }
      ]
    }
  ]
}